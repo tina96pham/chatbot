{
 "cells": [
  {
   "cell_type": "markdown",
   "metadata": {},
   "source": [
    "### ELIZA Bot\n",
    "- First AI program chatbot that utilize Regular Expression (regex) to create an illution that the system understood a message\n",
    "1. Match pattern of text:\n",
    "    - Identify pattern and create a set of rule\n",
    "2. Extract key phrases\n",
    "3. Transform sentences grammatically: \n",
    "    - Respond to user's input with appropriate response based on the extracted key phrase. "
   ]
  },
  {
   "cell_type": "code",
   "execution_count": 1,
   "metadata": {},
   "outputs": [],
   "source": [
    "# Step 1: Create a simple interface for the bot\n",
    "bot_template= \"BOT: {0}\"\n",
    "user_template=\"USER: {0}\""
   ]
  },
  {
   "cell_type": "code",
   "execution_count": 2,
   "metadata": {},
   "outputs": [],
   "source": [
    "# Step 2: Create a smalltalk dictionary that identifying pattern and create and answer\n",
    "rules = {\n",
    "    \"do you think(.*)\": [\n",
    "        \"if {0}? Absolutely.\",\n",
    "        \"No chance\"\n",
    "        ],\n",
    "    \"do you remember(.*)\": [\n",
    "        \"Did you think I would forget {0}\", \n",
    "        \"Why havent't you been able to forget {0}\"\n",
    "        ],\n",
    "    \"I want(.*)\": [\n",
    "        \"What would it mean if you got {0}\",\n",
    "        \"Why do you want {0}\"\n",
    "        \"{0}, that sounds like an interesting idea. Can we talk about it further?\"\n",
    "    ],\n",
    "    \"if(.*)\": [\n",
    "        \"Do you really think it's likely that {0}?\",\n",
    "        \"Do you wish that {0}\",\n",
    "        \"What do you think about {0}\",\n",
    "        \"Really--if {0}\"\n",
    "    ]\n",
    "}"
   ]
  },
  {
   "cell_type": "code",
   "execution_count": 3,
   "metadata": {},
   "outputs": [
    {
     "name": "stdout",
     "output_type": "stream",
     "text": [
      "your last birthday\n",
      "when me went to florida\n",
      "i had your own castle\n"
     ]
    }
   ],
   "source": [
    "# Import regular expression\n",
    "import re\n",
    "# Step 3: Transform  sentences gramatically\n",
    "def replace_pronouns(message):\n",
    "    '''transform the extracted phrases from first to second person and vice versa'''\n",
    "    # transform all sentences in message to lower case\n",
    "    message= message.lower()\n",
    "    if \"me\" in message:\n",
    "        #return message.replace('me', 'you')\n",
    "        # Replace 'me' with 'you' in message\n",
    "        return re.sub(\"me\", \"you\", message) \n",
    "    if \"my\" in message:\n",
    "        return re.sub(\"my\", \"your\", message)\n",
    "    if \"your\" in message:\n",
    "        return re.sub(\"your\", \"my\", message)\n",
    "    if \"you\" in message:\n",
    "        return re.sub(\"you\", \"me\", message)\n",
    "    return message\n",
    "\n",
    "print(replace_pronouns(\"my last birthday\"))\n",
    "print(replace_pronouns(\"when you went to FLorida\"))\n",
    "print (replace_pronouns(\"I had my own castle\"))"
   ]
  },
  {
   "cell_type": "code",
   "execution_count": 54,
   "metadata": {},
   "outputs": [
    {
     "name": "stdout",
     "output_type": "stream",
     "text": [
      "Why havent't you been able to forget  your last birthday\n"
     ]
    }
   ],
   "source": [
    "# Import random\n",
    "import random\n",
    "# extract key phrase\n",
    "def match_rule(rules, message):\n",
    "    response, phrase= \"default\", None\n",
    "    for pattern, responses in rules.items():\n",
    "        match= re.search(pattern, message)\n",
    "        if match is not None:\n",
    "            response= random.choice(responses)\n",
    "            if '{0}' in response:\n",
    "                phrase = match.group(1)\n",
    "    return response.format(phrase)\n",
    "# Test match_rule\n",
    "print(match_rule(rules, \"do you remember your last birthday\"))"
   ]
  },
  {
   "cell_type": "code",
   "execution_count": 68,
   "metadata": {},
   "outputs": [
    {
     "data": {
      "text/plain": [
       "\"Why havent't you been able to forget  your last birthday\""
      ]
     },
     "execution_count": 68,
     "metadata": {},
     "output_type": "execute_result"
    }
   ],
   "source": [
    "# Define respond\n",
    "def respond(message):\n",
    "    # Call match_rule\n",
    "    response = match_rule(rules, message)\n",
    "    if '{0}' in response:\n",
    "        # Replace the pronouns in the phrase\n",
    "        response = replace_pronouns(response)\n",
    "        # Include the phrase in the response\n",
    "        response= response.format(response)\n",
    "    return response\n",
    "\n",
    "respond(\"do you remember your last birthday\")"
   ]
  },
  {
   "cell_type": "code",
   "execution_count": 70,
   "metadata": {},
   "outputs": [],
   "source": [
    "# Step 5: Define function that send message to the bot: keep track of everything being said\n",
    "def send_message(message):\n",
    "    ''' print what user said, calling response function and print the bot respond'''\n",
    "    # Print what user said using user_template including user message\n",
    "    print(user_template.format(message))\n",
    "    # Get bot's response to the message\n",
    "    response= respond(message)\n",
    "    # Print bot's response using bot_template including bot's response\n",
    "    print(bot_template.format(response))\n"
   ]
  },
  {
   "cell_type": "code",
   "execution_count": 71,
   "metadata": {},
   "outputs": [
    {
     "name": "stdout",
     "output_type": "stream",
     "text": [
      "USER: do you remember your last birthday\n",
      "BOT: Did you think I would forget  your last birthday\n",
      "USER: do you think humans should be worried about AI\n",
      "BOT: No chance\n",
      "USER: I want a robot friend\n",
      "BOT: Why do you want  a robot friend a robot friend, that sounds like an interesting idea. Can we talk about it further?\n",
      "USER: what if you could be anything you wanted\n",
      "BOT: Do you really think it's likely that  you could be anything you wanted?\n"
     ]
    }
   ],
   "source": [
    "# Send the messages\n",
    "send_message(\"do you remember your last birthday\")\n",
    "send_message(\"do you think humans should be worried about AI\")\n",
    "send_message(\"I want a robot friend\")\n",
    "send_message(\"what if you could be anything you wanted\")"
   ]
  }
 ],
 "metadata": {
  "kernelspec": {
   "display_name": "chatbot_env",
   "language": "python",
   "name": "python3"
  },
  "language_info": {
   "codemirror_mode": {
    "name": "ipython",
    "version": 3
   },
   "file_extension": ".py",
   "mimetype": "text/x-python",
   "name": "python",
   "nbconvert_exporter": "python",
   "pygments_lexer": "ipython3",
   "version": "3.10.13"
  },
  "orig_nbformat": 4
 },
 "nbformat": 4,
 "nbformat_minor": 2
}
