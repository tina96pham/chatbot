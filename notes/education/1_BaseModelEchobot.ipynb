{
 "cells": [
  {
   "cell_type": "markdown",
   "metadata": {},
   "source": [
    "### Base model: Echo Bot\n",
    "1. User interface\n",
    "2. response function: take message as argument and return with respond\n",
    "3. echo function: keep track of everything being said"
   ]
  },
  {
   "cell_type": "code",
   "execution_count": 1,
   "metadata": {},
   "outputs": [],
   "source": [
    "# Step 1: Create a simple interface for the bot\n",
    "# Create template with {0} as place keeeper\n",
    "bot_template= \"BOT: {0}\"\n",
    "user_template=\"USER: {0}\""
   ]
  },
  {
   "cell_type": "code",
   "execution_count": 2,
   "metadata": {},
   "outputs": [
    {
     "name": "stdout",
     "output_type": "stream",
     "text": [
      "I can hear you! you said: hello!\n"
     ]
    }
   ],
   "source": [
    "# Step 2: Define function that respond to a user's message\n",
    "def respond(message):\n",
    "    '''response function take message as argument and return with respond''' \n",
    "    # Concatenate the user's message to the end of a standard bot response\n",
    "    bot_message= \"I can hear you! you said: {}\".format(message)\n",
    "    #return f\"I can hear you! you said: {message}\"\n",
    "    return bot_message\n",
    "\n",
    "# Test respond function\n",
    "print(respond(\"hello!\"))"
   ]
  },
  {
   "cell_type": "code",
   "execution_count": 3,
   "metadata": {},
   "outputs": [
    {
     "name": "stdout",
     "output_type": "stream",
     "text": [
      "USER: hello\n",
      "BOT: I can hear you! you said: hello\n"
     ]
    }
   ],
   "source": [
    "# Step 3: Define function that send_message to the bot: keep track of everything being said\n",
    "def send_message(message):\n",
    "    ''' print what user said, calling response function and print the bot respond'''\n",
    "    # Print what user said using user_template including user message\n",
    "    print(user_template.format(message))\n",
    "    # Get bot's response to the message\n",
    "    response= respond(message)\n",
    "    # Print bot's response using bot_template including bot's response\n",
    "    print(bot_template.format(response))\n",
    "\n",
    "# Test send_message to the bot\n",
    "send_message(\"hello\")"
   ]
  },
  {
   "cell_type": "code",
   "execution_count": 4,
   "metadata": {},
   "outputs": [],
   "source": [
    "# Optional: Create artificial delay: create natural conversation\n",
    "import time\n",
    "# Delay by 0.5 sec\n",
    "time.sleep(0.5)"
   ]
  },
  {
   "cell_type": "markdown",
   "metadata": {},
   "source": [
    "Congrats you create your first simple chat bot :)"
   ]
  }
 ],
 "metadata": {
  "kernelspec": {
   "display_name": "chatbot_env",
   "language": "python",
   "name": "python3"
  },
  "language_info": {
   "codemirror_mode": {
    "name": "ipython",
    "version": 3
   },
   "file_extension": ".py",
   "mimetype": "text/x-python",
   "name": "python",
   "nbconvert_exporter": "python",
   "pygments_lexer": "ipython3",
   "version": "3.10.13"
  },
  "orig_nbformat": 4
 },
 "nbformat": 4,
 "nbformat_minor": 2
}
