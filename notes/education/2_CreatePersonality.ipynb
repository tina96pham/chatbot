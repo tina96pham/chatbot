{
 "cells": [
  {
   "cell_type": "markdown",
   "metadata": {},
   "source": [
    "### Creating personality for the chatbot\n",
    "- Personality will hoelp leep user engage\n",
    "- How:\n",
    "1. Smalltalk: dictionary of message and response \n",
    "2. Variables: create more personalize response \n",
    "3. Randomize response: Not having the exact response like the Echobot. Using random function to select a variable from the list and display it in chat window\n",
    "4. Asking questions as respond: ignite fun conversation"
   ]
  },
  {
   "cell_type": "code",
   "execution_count": 20,
   "metadata": {},
   "outputs": [],
   "source": [
    "# Step 1: Create a simple interface for the bot\n",
    "bot_template= \"BOT: {0}\"\n",
    "user_template=\"USER: {0}\""
   ]
  },
  {
   "cell_type": "code",
   "execution_count": 21,
   "metadata": {},
   "outputs": [],
   "source": [
    "# Step 2:  Define variables\n",
    "name= \"Tina\"\n",
    "weather= \"sunny\"\n"
   ]
  },
  {
   "cell_type": "code",
   "execution_count": 22,
   "metadata": {},
   "outputs": [],
   "source": [
    "# Step 3:  Create smalltalk with dictionary of predefined response\n",
    "# Define responses dictionary with list of answer\n",
    "responses= {\n",
    "    \"what's your name?\": [\n",
    "        \"My name is {0}\". format(name),\n",
    "        \"They call me {0}\". format(name),\n",
    "        \"I go by {0}\". format(name)\n",
    "        ],\n",
    "    \"what's today's weather?\": [\n",
    "        \"The weather is {0}\". format(weather),\n",
    "        \"It's {0} today\". format(weather)\n",
    "    ],\n",
    "    \"default\": [\n",
    "            \" I don't understand your message. Tell me more\",\n",
    "            \" I don't understand what you mean. Let me get back to you later\"\n",
    "    ]\n",
    "}"
   ]
  },
  {
   "cell_type": "code",
   "execution_count": 23,
   "metadata": {},
   "outputs": [],
   "source": [
    "# Import random module\n",
    "import random"
   ]
  },
  {
   "cell_type": "code",
   "execution_count": 24,
   "metadata": {},
   "outputs": [],
   "source": [
    "# Step 4: Create respond function with variety response\n",
    "def respond(message):\n",
    "    '''Personalize respond\n",
    "    Returning matching response from the smalltalk dictionary,\n",
    "    Otherwise, default'''\n",
    "    # Check if message in the responses\n",
    "    if message in responses:\n",
    "        bot_message= random.choice(responses[message])\n",
    "    else:\n",
    "        bot_message= random.choice(responses[\"default\"])\n",
    "    return bot_message"
   ]
  },
  {
   "cell_type": "code",
   "execution_count": 25,
   "metadata": {},
   "outputs": [],
   "source": [
    "# Step 5: Define function that send message to the bot: keep track of everything being said\n",
    "def send_message(message):\n",
    "    ''' print what user said, calling response function and print the bot respond'''\n",
    "    # Print what user said using user_template including user message\n",
    "    print(user_template.format(message))\n",
    "    # Get bot's response to the message\n",
    "    response= respond(message)\n",
    "    # Print bot's response using bot_template including bot's response\n",
    "    print(bot_template.format(response))\n"
   ]
  },
  {
   "cell_type": "code",
   "execution_count": 29,
   "metadata": {},
   "outputs": [
    {
     "name": "stdout",
     "output_type": "stream",
     "text": [
      "USER: what's today's weather?\n",
      "BOT: The weather is sunny\n",
      "USER: what's your name?\n",
      "BOT: My name is Tina\n",
      "USER: what's your favorite color?\n",
      "BOT:  I don't understand what you mean. Let me get back to you later\n"
     ]
    }
   ],
   "source": [
    "# Testing with send_message function from echobot interation\n",
    "send_message(\"what's today's weather?\")\n",
    "send_message(\"what's your name?\")\n",
    "send_message(\"what's your favorite color?\")\n",
    "\n"
   ]
  },
  {
   "cell_type": "code",
   "execution_count": 26,
   "metadata": {},
   "outputs": [
    {
     "name": "stdout",
     "output_type": "stream",
     "text": [
      "USER: what's your name?\n",
      "BOT: I go by Tina\n"
     ]
    }
   ],
   "source": [
    "send_message(\"what's your name?\")\n"
   ]
  },
  {
   "cell_type": "code",
   "execution_count": 19,
   "metadata": {},
   "outputs": [
    {
     "name": "stdout",
     "output_type": "stream",
     "text": [
      "USER: what's your name?\n",
      "BOT: They call me Tina\n"
     ]
    }
   ],
   "source": [
    "send_message(\"what's your name?\")\n"
   ]
  }
 ],
 "metadata": {
  "kernelspec": {
   "display_name": "chatbot_env",
   "language": "python",
   "name": "python3"
  },
  "language_info": {
   "codemirror_mode": {
    "name": "ipython",
    "version": 3
   },
   "file_extension": ".py",
   "mimetype": "text/x-python",
   "name": "python",
   "nbconvert_exporter": "python",
   "pygments_lexer": "ipython3",
   "version": "3.10.13"
  },
  "orig_nbformat": 4
 },
 "nbformat": 4,
 "nbformat_minor": 2
}
