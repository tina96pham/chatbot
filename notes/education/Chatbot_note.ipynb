{
 "cells": [
  {
   "cell_type": "markdown",
   "metadata": {},
   "source": [
    "# Conversational Software- Chatbot"
   ]
  },
  {
   "cell_type": "markdown",
   "metadata": {},
   "source": [
    "- Echobot\n",
    "- Eliza Style- Smalltalk\n",
    "- Regex and ML to extract meaning from free form text\n",
    "- Chatbots--> query database/ plan trip/ order coffee\n",
    "- Complicated bot: keep track of state of converstation --> 1. avoid statefulness then 2. handle staefulness"
   ]
  },
  {
   "cell_type": "markdown",
   "metadata": {},
   "source": [
    "## Iteratation 1: Create an Echobot\n",
    "- Base model of the chatbot that echo back the message that was prompted\n"
   ]
  },
  {
   "cell_type": "code",
   "execution_count": 11,
   "metadata": {},
   "outputs": [],
   "source": [
    "# Create a simple interface for the bot\n",
    "bot_template= \"BOT: {0}\"\n",
    "user_template=\"USER: {0}\""
   ]
  },
  {
   "cell_type": "code",
   "execution_count": 12,
   "metadata": {},
   "outputs": [],
   "source": [
    "# Step 1: Define function that response to a user's message\n",
    "def respond(message):\n",
    "    '''response function take message as argument and return with respond''' \n",
    "    # Concatenate the user's message to the end of a standard bot response\n",
    "    bot_message= \"I can hear you! you said: {}\".format(message)\n",
    "    #return f\"I can hear you! you said: {message}\"\n",
    "    return bot_message"
   ]
  },
  {
   "cell_type": "code",
   "execution_count": 13,
   "metadata": {},
   "outputs": [
    {
     "name": "stdout",
     "output_type": "stream",
     "text": [
      "I can hear you! you said: hello!\n"
     ]
    }
   ],
   "source": [
    "# Test function\n",
    "print(respond(\"hello!\"))"
   ]
  },
  {
   "cell_type": "code",
   "execution_count": 14,
   "metadata": {},
   "outputs": [
    {
     "name": "stdout",
     "output_type": "stream",
     "text": [
      "USER: hello\n",
      "BOT: I can hear you! you said: hello\n"
     ]
    }
   ],
   "source": [
    "# Step 2: Define function that send message to the bot: keep track of everything being said\n",
    "def send_message(message):\n",
    "    ''' print what user said, calling response function and print the bot respond'''\n",
    "    # Print what user said using user_template including user message\n",
    "    print(user_template.format(message))\n",
    "    # Get bot's response to the message\n",
    "    response= respond(message)\n",
    "    # Print bot's response using bot_template including bot's response\n",
    "    print(bot_template.format(response))\n",
    "# Send message to the bot\n",
    "send_message(\"hello\")"
   ]
  },
  {
   "cell_type": "code",
   "execution_count": 15,
   "metadata": {},
   "outputs": [],
   "source": [
    "# Optional: Create artificial delay: create natural conversation\n",
    "import time\n",
    "# Delay by 0.5 sec\n",
    "time.sleep(0.5)"
   ]
  },
  {
   "cell_type": "markdown",
   "metadata": {},
   "source": [
    "### Creating personality for the chatbot\n",
    "- Keep user engage\n",
    "1. smalltalk: create dictionary or list that store response\n",
    "2. Including variables: creating a more personalize reposnse and not having the same exact response. Ex: not having the same response for the weather everyday\n",
    "3. Choosing response: using random function to select a variable from the list and display it in chat window\n",
    "4. Asking questions: inite fun conversation"
   ]
  },
  {
   "cell_type": "markdown",
   "metadata": {},
   "source": [
    "### Iteraction 2: Creating smalltalk\n",
    "- Use a dictionary to contain a predefined list of response\n",
    "- Limitation: only prompt what was in the dictionary--> lack automation power"
   ]
  },
  {
   "cell_type": "code",
   "execution_count": 16,
   "metadata": {},
   "outputs": [],
   "source": [
    "# Step 1:  Define variables\n",
    "name= \"Tina\"\n",
    "weather= \"sunny\"\n",
    "# Step 2:  Create smalltalk with dictionary of predefined response\n",
    "responses= {\n",
    "    \"what's your name?\": \"my name is {0}\".format(name),\n",
    "    \"what's today's weather?\": \"the weather is {0}\".format(weather),\n",
    "    \"default\": \"I don't understand the message. Let me get back to you later\"\n",
    "}\n",
    "\n",
    "# Step 3: Create respond function \n",
    "def respond(message):\n",
    "    '''Personalize respond\n",
    "    Returning matching response from the smalltalk dictionary,\n",
    "    Otherwise, default'''\n",
    "    # Check if message in the responses\n",
    "    if message in responses:\n",
    "        bot_message= responses[message]\n",
    "    else:\n",
    "        bot_message= responses[\"default\"]\n",
    "    return bot_message\n",
    "\n",
    "    \n"
   ]
  },
  {
   "cell_type": "code",
   "execution_count": 17,
   "metadata": {},
   "outputs": [
    {
     "name": "stdout",
     "output_type": "stream",
     "text": [
      "USER: what's today's weather?\n",
      "BOT: the weather is sunny\n"
     ]
    }
   ],
   "source": [
    "# Testing with send_message function from echobot interation\n",
    "send_message(\"what's today's weather?\")"
   ]
  },
  {
   "cell_type": "code",
   "execution_count": 18,
   "metadata": {},
   "outputs": [
    {
     "name": "stdout",
     "output_type": "stream",
     "text": [
      "USER: what's your name?\n",
      "BOT: my name is Tina\n"
     ]
    }
   ],
   "source": [
    "send_message(\"what's your name?\")"
   ]
  },
  {
   "cell_type": "code",
   "execution_count": 19,
   "metadata": {},
   "outputs": [
    {
     "name": "stdout",
     "output_type": "stream",
     "text": [
      "USER: what's your favorite color?\n",
      "BOT: I don't understand the message. Let me get back to you later\n"
     ]
    }
   ],
   "source": [
    "send_message(\"what's your favorite color?\")"
   ]
  },
  {
   "cell_type": "markdown",
   "metadata": {},
   "source": [
    "### Iteration 3: Adding variety \n",
    "- Using a dictionary with list of respond and "
   ]
  },
  {
   "cell_type": "code",
   "execution_count": 20,
   "metadata": {},
   "outputs": [],
   "source": [
    "# Import random module\n",
    "import random\n",
    "\n",
    "# Define variable\n",
    "name= \"Tina\"\n",
    "weather= \"sunny\"\n",
    "\n",
    "# Define responses dictionary with list of answer\n",
    "responses= {\n",
    "    \"what's your name?\": [\n",
    "        \"My name is {0}\".format(name),\n",
    "        \"They call me {0}\".format(name),\n",
    "        \"I go by {0}\". format(name)\n",
    "        ],\n",
    "    \"what's today's weather?\": [\n",
    "        \"The weather is {0}\".format(weather),\n",
    "        \"It's {0} today\".format(weather)\n",
    "    ],\n",
    "    \"default\": [\n",
    "            \" I don't understand your message. Tell me more\",\n",
    "            \" I don't understadn what you mean. Let me get back to you later\"\n",
    "    ]\n",
    "}\n",
    "\n",
    "# Defind respond with variety response\n",
    "def respond(message):\n",
    "    '''Personalize respond\n",
    "    Returning matching response from the smalltalk dictionary,\n",
    "    Otherwise, default'''\n",
    "    # Check if message in the responses\n",
    "    if message in responses:\n",
    "        bot_message= random.choice(responses[message])\n",
    "    else:\n",
    "        bot_message= random.choice(responses[\"default\"])\n",
    "    return bot_message"
   ]
  },
  {
   "cell_type": "code",
   "execution_count": 21,
   "metadata": {},
   "outputs": [
    {
     "name": "stdout",
     "output_type": "stream",
     "text": [
      "USER: what's today's weather?\n",
      "BOT: The weather is sunny\n"
     ]
    }
   ],
   "source": [
    "# Testing with send_message function from echobot interation\n",
    "send_message(\"what's today's weather?\")"
   ]
  },
  {
   "cell_type": "code",
   "execution_count": 22,
   "metadata": {},
   "outputs": [
    {
     "name": "stdout",
     "output_type": "stream",
     "text": [
      "USER: what's today's weather?\n",
      "BOT: It's sunny today\n"
     ]
    }
   ],
   "source": [
    "send_message(\"what's today's weather?\")"
   ]
  },
  {
   "cell_type": "markdown",
   "metadata": {},
   "source": [
    "### Iteration 4: Regular expression\n",
    "- Create an illusion that the system understood message\n",
    "1. Match pattern of text data: identifying pattern of character and create a set of rule\n",
    "2. Extract key phrases\n",
    "'''python \n",
    "pattern= \"if(.*)\"\n",
    "message=\"what would happen if bots took over the world\"\n",
    "match= re.search(pattern, message) '''\n",
    "3. Transform sentences gramatically\n",
    "- extract phrase from first to second person\n"
   ]
  },
  {
   "cell_type": "code",
   "execution_count": 23,
   "metadata": {},
   "outputs": [
    {
     "name": "stdout",
     "output_type": "stream",
     "text": [
      "your last birthday\n",
      "when me went to florida\n",
      "i had your own castle\n"
     ]
    }
   ],
   "source": [
    "import re\n",
    "# Transform  sentences gramatically\n",
    "def replace_pronouns(message):\n",
    "    '''transform the extracted phrases from first to second person and vice versa'''\n",
    "    # transform all sentences in message to lower case\n",
    "    message= message.lower()\n",
    "    if \"me\" in message:\n",
    "        #return message.replace('me', 'you')\n",
    "        # Replace 'me' with 'you' in message\n",
    "        return re.sub(\"me\", \"you\", message) \n",
    "    if \"my\" in message:\n",
    "        return re.sub(\"my\", \"your\", message)\n",
    "    if \"your\" in message:\n",
    "        return re.sub(\"your\", \"my\", message)\n",
    "    if \"you\" in message:\n",
    "        return re.sub(\"you\", \"me\", message)\n",
    "    return message\n",
    "\n",
    "print(replace_pronouns(\"my last birthday\"))\n",
    "print(replace_pronouns(\"when you went to FLorida\"))\n",
    "print (replace_pronouns(\"I had my own castle\"))"
   ]
  },
  {
   "cell_type": "markdown",
   "metadata": {},
   "source": [
    "### Putting it together"
   ]
  },
  {
   "cell_type": "code",
   "execution_count": 30,
   "metadata": {},
   "outputs": [
    {
     "name": "stdout",
     "output_type": "stream",
     "text": [
      "{'do you think(.*)': ['if {0}? Absolutely.', 'No chance'], 'do you remember(.*)': ['Did you think I would forget {0}', \"Why havent't you been able to forget {0}\"], 'I want(.*)': ['What would it mean if you got {0}', 'Why do you want {0}{0}, that sounds like an interesting idea. Can we talk about it further?'], 'if(.*)': [\"Do you really think it's likely that {0}?\", 'Do you wish that {0}', 'What do you think about {0}', 'Really--if {0}']}\n"
     ]
    }
   ],
   "source": [
    "# Create a rules dictionary\n",
    "rules = {\n",
    "    \"do you think(.*)\": [\n",
    "        \"if {0}? Absolutely.\",\n",
    "        \"No chance\"\n",
    "        ],\n",
    "    \"do you remember(.*)\": [\n",
    "        \"Did you think I would forget {0}\", \n",
    "        \"Why havent't you been able to forget {0}\"\n",
    "        ],\n",
    "    \"I want(.*)\": [\n",
    "        \"What would it mean if you got {0}\",\n",
    "        \"Why do you want {0}\"\n",
    "        \"{0}, that sounds like an interesting idea. Can we talk about it further?\"\n",
    "    ],\n",
    "    \"if(.*)\": [\n",
    "        \"Do you really think it's likely that {0}?\",\n",
    "        \"Do you wish that {0}\",\n",
    "        \"What do you think about {0}\",\n",
    "        \"Really--if {0}\"\n",
    "    ]\n",
    "}\n",
    "# Print the rules dictionary\n",
    "print(rules)"
   ]
  },
  {
   "cell_type": "code",
   "execution_count": 31,
   "metadata": {},
   "outputs": [
    {
     "name": "stdout",
     "output_type": "stream",
     "text": [
      "Why havent't you been able to forget  your last birthday\n"
     ]
    }
   ],
   "source": [
    "# extract key phrase\n",
    "def match_rule(rules, message):\n",
    "    response, phrase= \"default\", None\n",
    "    for pattern, responses in rules.items():\n",
    "        match= re.search(pattern, message)\n",
    "        if match is not None:\n",
    "            response= random.choice(responses)\n",
    "            if '{0}' in response:\n",
    "                phrase = match.group(1)\n",
    "    return response.format(phrase)\n",
    "# Test match_rule\n",
    "print(match_rule(rules, \"do you remember your last birthday\"))"
   ]
  },
  {
   "cell_type": "code",
   "execution_count": 32,
   "metadata": {},
   "outputs": [
    {
     "data": {
      "text/plain": [
       "'Did you think I would forget  your last birthday'"
      ]
     },
     "execution_count": 32,
     "metadata": {},
     "output_type": "execute_result"
    }
   ],
   "source": [
    "# Define respond\n",
    "def respond(message):\n",
    "    # Call match_rule\n",
    "    response = match_rule(rules, message)\n",
    "    if '{0}' in response:\n",
    "        # Replace the pronouns in the phrase\n",
    "        response = replace_pronouns(response)\n",
    "        # Include the phrase in the response\n",
    "        response= response.format(response)\n",
    "    return response\n",
    "\n",
    "respond(\"do you remember your last birthday\")"
   ]
  },
  {
   "cell_type": "code",
   "execution_count": 33,
   "metadata": {},
   "outputs": [
    {
     "name": "stdout",
     "output_type": "stream",
     "text": [
      "USER: do you remember your last birthday\n",
      "BOT: Did you think I would forget  your last birthday\n",
      "USER: do you think human should be worried about AI\n",
      "BOT: No chance\n",
      "USER: I want a robot friend\n",
      "BOT: Why do you want  a robot friend a robot friend, that sounds like an interesting idea. Can we talk about it further?\n",
      "USER: what if you could be anything you wanted\n",
      "BOT: What do you think about  you could be anything you wanted\n"
     ]
    }
   ],
   "source": [
    "# Send message\n",
    "send_message(\"do you remember your last birthday\")\n",
    "send_message(\"do you think human should be worried about AI\")\n",
    "send_message(\"I want a robot friend\")\n",
    "send_message(\"what if you could be anything you wanted\")\n"
   ]
  },
  {
   "cell_type": "markdown",
   "metadata": {},
   "source": [
    "### Intent classification with regex \n",
    "1. Identified intent\n",
    "2. Entities: Name entities recognition (NER)"
   ]
  },
  {
   "cell_type": "code",
   "execution_count": 34,
   "metadata": {},
   "outputs": [],
   "source": [
    "keywords= {\n",
    "    'greet': ['hello', 'hi', 'hey'], \n",
    "    'goodbye': ['bye', 'farewell'], \n",
    "    'thankyou': ['thank', 'thx']\n",
    "}\n"
   ]
  },
  {
   "cell_type": "code",
   "execution_count": 35,
   "metadata": {},
   "outputs": [
    {
     "name": "stdout",
     "output_type": "stream",
     "text": [
      "{'greet': re.compile('hello|hi|hey'), 'goodbye': re.compile('bye|farewell'), 'thankyou': re.compile('thank|thx')}\n"
     ]
    }
   ],
   "source": [
    "import re\n",
    "# Define a dictionary of patterns\n",
    "patterns = {}\n",
    "# Iterate over the keywords dictionary\n",
    "for intent, keys in keywords.items():\n",
    "    # Create regular expressions and compile them into pattern objects\n",
    "    patterns[intent] = re.compile('|'.join(keys))\n",
    "    \n",
    "# Print the patterns\n",
    "print(patterns)"
   ]
  },
  {
   "cell_type": "code",
   "execution_count": 37,
   "metadata": {},
   "outputs": [
    {
     "name": "stdout",
     "output_type": "stream",
     "text": [
      "USER: hello!\n",
      "BOT: [\" I don't understand your message. Tell me more\", \" I don't understadn what you mean. Let me get back to you later\"]\n",
      "USER: bye byeee\n",
      "BOT: [\" I don't understand your message. Tell me more\", \" I don't understadn what you mean. Let me get back to you later\"]\n",
      "USER: thanks very much!\n",
      "BOT: [\" I don't understand your message. Tell me more\", \" I don't understadn what you mean. Let me get back to you later\"]\n"
     ]
    }
   ],
   "source": [
    "# Define a function to find the intent of a message\n",
    "def match_intent(message):\n",
    "    matched_intent = None\n",
    "    for intent, pattern in patterns.items():\n",
    "        # Check if the pattern occurs in the message \n",
    "        if pattern.search(message):\n",
    "            matched_intent = intent\n",
    "    return matched_intent\n",
    "\n",
    "# Define a respond function\n",
    "def respond(message):\n",
    "    # Call the match_intent function\n",
    "    intent = match_intent(message)\n",
    "    # Fall back to the default response\n",
    "    key = \"default\"\n",
    "    if intent in responses:\n",
    "        key = intent\n",
    "    return responses[key]\n",
    "\n",
    "# Send messages\n",
    "send_message(\"hello!\")\n",
    "send_message(\"bye byeee\")\n",
    "send_message(\"thanks very much!\")"
   ]
  }
 ],
 "metadata": {
  "kernelspec": {
   "display_name": "chatbot_env",
   "language": "python",
   "name": "python3"
  },
  "language_info": {
   "codemirror_mode": {
    "name": "ipython",
    "version": 3
   },
   "file_extension": ".py",
   "mimetype": "text/x-python",
   "name": "python",
   "nbconvert_exporter": "python",
   "pygments_lexer": "ipython3",
   "version": "3.10.13"
  },
  "orig_nbformat": 4
 },
 "nbformat": 4,
 "nbformat_minor": 2
}
