{
 "cells": [
  {
   "cell_type": "markdown",
   "metadata": {},
   "source": [
    "### ChatBot building with Lang chain"
   ]
  },
  {
   "cell_type": "markdown",
   "metadata": {},
   "source": [
    "- Langchain is a framework for building application base on LLM\n",
    "- Business want to build their own LLM --> access to real data from their own database which CHATGPT cannot provide\n",
    "- Concept to look at:\n",
    "    - Vector Store\n",
    "    - Embedding\n",
    "- The whole idea is to turn text into a vector and stor into the vector base storage and train model to retrieve the data base how we train it to response to the answer."
   ]
  },
  {
   "cell_type": "markdown",
   "metadata": {},
   "source": [
    "```python  \n",
    "conda install conda=23.7.4\n",
    "pip install langchain\n",
    "pip install pypdf\n",
    "pip install gpt_index\n",
    "pip install tiktoken\n",
    "pip install os\n",
    "```"
   ]
  },
  {
   "cell_type": "markdown",
   "metadata": {},
   "source": [
    "https://colab.research.google.com/drive/1OZpmLgd5D_qmjTnL5AsD1_ZJDdb7LQZI?usp=sharing#scrollTo=-pHw5siewPNt\n"
   ]
  },
  {
   "cell_type": "code",
   "execution_count": 1,
   "metadata": {},
   "outputs": [],
   "source": [
    "import os\n",
    "import cchardet as chardet\n",
    "from langchain.llms import OpenAI\n",
    "\n"
   ]
  },
  {
   "cell_type": "code",
   "execution_count": 2,
   "metadata": {},
   "outputs": [],
   "source": [
    "# API call for chatgpt environment\n",
    "OPENAI_API= os.environ[\"OPENAI_API_KEY\"]\n"
   ]
  },
  {
   "cell_type": "code",
   "execution_count": 6,
   "metadata": {},
   "outputs": [
    {
     "name": "stdout",
     "output_type": "stream",
     "text": [
      "page_content='•Are any Physicians accepting patients? When Physicians are able to accommodate new patients, this will be published on the website under Physicians page. •Can I get my results mailed to me or released over the phone? Depending on your Physician, some results may be released by mail or over the phone, or you may be asked to make another appointment with your Physician to review your result. Please clarify this with your Physician if you are expecting to be contacted about a speciﬁc test result. •Can I phone directly to make an appointment? You can phone our main line at 204-727-6451 and press option “3” to speak to a Receptionist to make your appointment. Please understand that phones are very busy and your time on hold will vary depending on call volumes at any given time. For a more convenient method please use our Online Booking option available on our website. It is very user-friendly and will provide you with conﬁrmation of your appointment. •What happens if I miss an appointment? Please understand that missed appointments are time that a Physician could utilize to see other sick patients. If at all possible, please call 24 hours in advance to cancel your appointment if you know you are unable to attend. If you discover you are unable to attend an appointment due to unforeseen circumstances, a call up to two hours prior to the appointment is still appreciated. Please be aware that it is at the Physician’s discretion to charge for missed appointments. •What happens if I cannot keep an appointment? If you cannot keep your appointment – please contact the clinic in order to cancel your booked appointment and reschedule another appointment. •What happens if I am late for my appointment? If you are late for your booked appointment, it is at the Physician’s discretion as to whether they feel they can still accommodate your appointment.' metadata={'source': '/Users/tinapham/Desktop/chatbot project/FAQ.pdf', 'page': 0}\n"
     ]
    }
   ],
   "source": [
    "# import module to load pdf\n",
    "from langchain.document_loaders import PyPDFLoader\n",
    "\n",
    "# You MUST add your PDF to local files in this notebook (folder icon on left hand side of screen)\n",
    "\n",
    "# Simple method - Split by pages \n",
    "loader = PyPDFLoader(\"/Users/tinapham/Desktop/chatbot project/FAQ.pdf\")\n",
    "pages = loader.load_and_split()\n",
    "print(pages[0])\n"
   ]
  },
  {
   "cell_type": "code",
   "execution_count": 12,
   "metadata": {},
   "outputs": [],
   "source": [
    "import os\n",
    "import pandas as pd\n",
    "import matplotlib.pyplot as plt\n",
    "from transformers import GPT2TokenizerFast\n",
    "#import nltk\n",
    "from langchain.document_loaders import PyPDFLoader\n",
    "from langchain.text_splitter import RecursiveCharacterTextSplitter\n",
    "from langchain.embeddings import OpenAIEmbeddings\n",
    "from langchain.vectorstores import FAISS\n",
    "from langchain.chains.question_answering import load_qa_chain\n",
    "from langchain.llms import OpenAI\n",
    "from langchain.chains import ConversationalRetrievalChain"
   ]
  },
  {
   "cell_type": "code",
   "execution_count": 14,
   "metadata": {},
   "outputs": [
    {
     "name": "stderr",
     "output_type": "stream",
     "text": [
      "Downloading (…)olve/main/vocab.json: 100%|██████████| 1.04M/1.04M [00:00<00:00, 26.8MB/s]\n",
      "Downloading (…)olve/main/merges.txt: 100%|██████████| 456k/456k [00:00<00:00, 11.8MB/s]\n",
      "Downloading (…)/main/tokenizer.json: 100%|██████████| 1.36M/1.36M [00:00<00:00, 42.7MB/s]\n",
      "Downloading (…)lve/main/config.json: 100%|██████████| 665/665 [00:00<00:00, 1.68MB/s]\n"
     ]
    }
   ],
   "source": [
    "# Advanced method - Split by chunk\n",
    "\n",
    "# Step 1: Convert PDF to text\n",
    "import textract\n",
    "doc = textract.process(\"/Users/tinapham/Desktop/chatbot project/FAQ.pdf\")\n",
    "\n",
    "# Step 2: Save to .txt and reopen (helps prevent issues)\n",
    "with open('FAQ.txt', 'w') as f:\n",
    "    f.write(doc.decode('utf-8'))\n",
    "\n",
    "with open('FAQ.txt', 'r') as f:\n",
    "    text = f.read()\n",
    "\n",
    "# Step 3: Create function to count tokens\n",
    "tokenizer = GPT2TokenizerFast.from_pretrained(\"gpt2\")\n",
    "\n",
    "def count_tokens(text: str) -> int:\n",
    "    return len(tokenizer.encode(text))\n",
    "\n",
    "# Step 4: Split text into chunks\n",
    "text_splitter = RecursiveCharacterTextSplitter(\n",
    "    # Set a really small chunk size, just to show.\n",
    "    chunk_size = 512,\n",
    "    chunk_overlap  = 24,\n",
    "    length_function = count_tokens,\n",
    ")\n",
    "\n",
    "chunks = text_splitter.create_documents([text])"
   ]
  },
  {
   "cell_type": "code",
   "execution_count": 15,
   "metadata": {},
   "outputs": [
    {
     "data": {
      "text/plain": [
       "langchain.schema.document.Document"
      ]
     },
     "execution_count": 15,
     "metadata": {},
     "output_type": "execute_result"
    }
   ],
   "source": [
    "# Result is many LangChain 'Documents' around 500 tokens or less (Recursive splitter sometimes allows more tokens to retain context)\n",
    "type(chunks[0]) "
   ]
  },
  {
   "cell_type": "code",
   "execution_count": 17,
   "metadata": {},
   "outputs": [
    {
     "data": {
      "image/png": "[encoded data removed]",
      "text/plain": [
       "<Figure size 640x480 with 1 Axes>"
      ]
     },
     "metadata": {},
     "output_type": "display_data"
    }
   ],
   "source": [
    "#Quick data visualization to ensure chunking was successful\n",
    "\n",
    "# Create a list of token counts\n",
    "token_counts = [count_tokens(chunk.page_content) for chunk in chunks]\n",
    "\n",
    "# Create a DataFrame from the token counts\n",
    "df = pd.DataFrame({'Token Count': token_counts})\n",
    "\n",
    "# Create a histogram of the token count distribution\n",
    "df.hist(bins=40, )\n",
    "\n",
    "# Show the plot\n",
    "plt.show()"
   ]
  },
  {
   "cell_type": "code",
   "execution_count": 20,
   "metadata": {},
   "outputs": [],
   "source": [
    "from langchain.vectorstores import FAISS\n",
    "\n",
    "# Get embedding model\n",
    "embeddings = OpenAIEmbeddings()\n",
    "\n",
    "# Create vector database\n",
    "db = FAISS.from_documents(chunks, embeddings)"
   ]
  },
  {
   "cell_type": "code",
   "execution_count": 21,
   "metadata": {},
   "outputs": [
    {
     "data": {
      "text/plain": [
       "Document(page_content='• Are any Physicians accepting patients? \\n\\nWhen Physicians are able to accommodate new patients, this will be \\npublished on the website under Physicians page. \\n\\n• Can I get my results mailed to me or released over the phone? \\n\\nDepending on your Physician, some results may be released by mail or over \\nthe phone, or you may be asked to make another appointment with your \\nPhysician to review your result. Please clarify this with your Physician if you \\nare expecting to be contacted about a speciﬁc test result. \\n\\n• Can I phone directly to make an appointment? \\n\\nYou can phone our main line at 204-727-6451 and press option “3” to speak to \\na Receptionist to make your appointment. Please understand that phones are \\nvery busy and your time on hold will vary depending on call volumes at any \\ngiven time. For a more convenient method please use our Online Booking \\noption available on our website. It is very user-friendly and will provide you \\nwith conﬁrmation of your appointment. \\n\\n• What happens if I miss an appointment? \\n\\nPlease understand that missed appointments are time that a Physician could \\nutilize to see other sick patients. If at all possible, please call 24 hours in \\nadvance to cancel your appointment if you know you are unable to attend. If \\nyou discover you are unable to attend an appointment due to unforeseen \\ncircumstances, a call up to two hours prior to the appointment is still \\nappreciated. Please be aware that it is at the Physician’s discretion to charge \\nfor missed appointments. \\n\\n• What happens if I cannot keep an appointment? \\n\\nIf you cannot keep your appointment – please contact the clinic in order to \\ncancel your booked appointment and reschedule another appointment. \\n\\n• What happens if I am late for my appointment? \\n\\nIf you are late for your booked appointment, it is at the Physician’s discretion \\nas to whether they feel they can still accommodate your appointment. \\n\\n\\x0c• Can I get a prescription renewal on Walk-in?', metadata={})"
      ]
     },
     "execution_count": 21,
     "metadata": {},
     "output_type": "execute_result"
    }
   ],
   "source": [
    "# Check similarity search is working\n",
    "query = \"Are any Physicians accepting patients?\"\n",
    "docs = db.similarity_search(query)\n",
    "docs[0]"
   ]
  },
  {
   "cell_type": "code",
   "execution_count": 22,
   "metadata": {},
   "outputs": [
    {
     "data": {
      "text/plain": [
       "' When Physicians are able to accommodate new patients, this will be published on the website under Physicians page.'"
      ]
     },
     "execution_count": 22,
     "metadata": {},
     "output_type": "execute_result"
    }
   ],
   "source": [
    "# Create QA chain to integrate similarity search with user queries (answer query from knowledge base)\n",
    "\n",
    "chain = load_qa_chain(OpenAI(temperature=0), chain_type=\"stuff\")\n",
    "\n",
    "query = \"Are any Physicians accepting patients?\"\n",
    "docs = db.similarity_search(query)\n",
    "\n",
    "chain.run(input_documents=docs, question=query)"
   ]
  }
 ],
 "metadata": {
  "kernelspec": {
   "display_name": "chatbot_env",
   "language": "python",
   "name": "python3"
  },
  "language_info": {
   "codemirror_mode": {
    "name": "ipython",
    "version": 3
   },
   "file_extension": ".py",
   "mimetype": "text/x-python",
   "name": "python",
   "nbconvert_exporter": "python",
   "pygments_lexer": "ipython3",
   "version": "3.10.13"
  },
  "orig_nbformat": 4
 },
 "nbformat": 4,
 "nbformat_minor": 2
}
